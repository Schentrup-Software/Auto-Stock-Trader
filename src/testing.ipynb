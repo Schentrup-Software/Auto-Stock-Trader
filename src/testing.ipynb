{
 "metadata": {
  "language_info": {
   "codemirror_mode": {
    "name": "ipython",
    "version": 3
   },
   "file_extension": ".py",
   "mimetype": "text/x-python",
   "name": "python",
   "nbconvert_exporter": "python",
   "pygments_lexer": "ipython3",
   "version": 3
  },
  "orig_nbformat": 2
 },
 "nbformat": 4,
 "nbformat_minor": 2,
 "cells": [
  {
   "cell_type": "code",
   "execution_count": null,
   "metadata": {},
   "outputs": [],
   "source": [
    "from datetime import date\n",
    "\n",
    "from predictor import predict_stock\n",
    "from stocksymbols import get_stock_symbols\n",
    "from alpacaclient import Alpaca\n",
    "\n",
    "today = date.today()\n",
    "print(\"Starting todays run:\", today)\n",
    "\n",
    "stock_symbols = get_stock_symbols()\n",
    "alpaca = Alpaca()\n",
    "\n",
    "for stock_symbol in stock_symbols:\n",
    "    try:\n",
    "        yesterdays_price, projected_price = predict_stock(stock_symbol, 1000)\n",
    "        print('Yesterdays price: ' + str(yesterdays_price))\n",
    "        print('Todays projected price: ' + str(projected_price))\n",
    "        # Only buy or hold the stock if we think there will be at least a 1% increase in the price\n",
    "        if (yesterdays_price * 1.01) < projected_price:\n",
    "            alpaca.ensure_position(stock_symbol)\n",
    "        else:\n",
    "            alpaca.ensure_no_position(stock_symbol)\n",
    "    except Exception as e:\n",
    "        print('Execption caught while trying to evaluate ' + stock_symbol)\n",
    "        print(e)"
   ]
  }
 ]
}